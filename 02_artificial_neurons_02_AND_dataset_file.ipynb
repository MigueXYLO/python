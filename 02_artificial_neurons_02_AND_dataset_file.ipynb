{
  "nbformat": 4,
  "nbformat_minor": 0,
  "metadata": {
    "colab": {
      "provenance": [],
      "include_colab_link": true
    },
    "kernelspec": {
      "name": "python3",
      "display_name": "Python 3"
    },
    "language_info": {
      "name": "python"
    }
  },
  "cells": [
    {
      "cell_type": "markdown",
      "metadata": {
        "id": "view-in-github",
        "colab_type": "text"
      },
      "source": [
        "<a href=\"https://colab.research.google.com/github/MigueXYLO/python/blob/main/02_artificial_neurons_02_AND_dataset_file.ipynb\" target=\"_parent\"><img src=\"https://colab.research.google.com/assets/colab-badge.svg\" alt=\"Open In Colab\"/></a>"
      ]
    },
    {
      "cell_type": "code",
      "execution_count": 1,
      "metadata": {
        "id": "nwc9liPjQU0z"
      },
      "outputs": [],
      "source": [
        "import tensorflow as tf\n",
        "import numpy as np\n",
        "from keras.models import Sequential\n",
        "from keras.layers import Dense"
      ]
    },
    {
      "cell_type": "code",
      "source": [
        "# Uploading the dataset file\n",
        "from google.colab import files\n",
        "uploaded = files.upload()"
      ],
      "metadata": {
        "id": "Q6oEqw6CTha7",
        "colab": {
          "base_uri": "https://localhost:8080/",
          "height": 73
        },
        "outputId": "aa9ebcc9-96ae-47c8-ce71-34dc5625b533"
      },
      "execution_count": 9,
      "outputs": [
        {
          "output_type": "display_data",
          "data": {
            "text/plain": [
              "<IPython.core.display.HTML object>"
            ],
            "text/html": [
              "\n",
              "     <input type=\"file\" id=\"files-0fd04713-5f05-46ff-840d-62ef60e75e00\" name=\"files[]\" multiple disabled\n",
              "        style=\"border:none\" />\n",
              "     <output id=\"result-0fd04713-5f05-46ff-840d-62ef60e75e00\">\n",
              "      Upload widget is only available when the cell has been executed in the\n",
              "      current browser session. Please rerun this cell to enable.\n",
              "      </output>\n",
              "      <script>// Copyright 2017 Google LLC\n",
              "//\n",
              "// Licensed under the Apache License, Version 2.0 (the \"License\");\n",
              "// you may not use this file except in compliance with the License.\n",
              "// You may obtain a copy of the License at\n",
              "//\n",
              "//      http://www.apache.org/licenses/LICENSE-2.0\n",
              "//\n",
              "// Unless required by applicable law or agreed to in writing, software\n",
              "// distributed under the License is distributed on an \"AS IS\" BASIS,\n",
              "// WITHOUT WARRANTIES OR CONDITIONS OF ANY KIND, either express or implied.\n",
              "// See the License for the specific language governing permissions and\n",
              "// limitations under the License.\n",
              "\n",
              "/**\n",
              " * @fileoverview Helpers for google.colab Python module.\n",
              " */\n",
              "(function(scope) {\n",
              "function span(text, styleAttributes = {}) {\n",
              "  const element = document.createElement('span');\n",
              "  element.textContent = text;\n",
              "  for (const key of Object.keys(styleAttributes)) {\n",
              "    element.style[key] = styleAttributes[key];\n",
              "  }\n",
              "  return element;\n",
              "}\n",
              "\n",
              "// Max number of bytes which will be uploaded at a time.\n",
              "const MAX_PAYLOAD_SIZE = 100 * 1024;\n",
              "\n",
              "function _uploadFiles(inputId, outputId) {\n",
              "  const steps = uploadFilesStep(inputId, outputId);\n",
              "  const outputElement = document.getElementById(outputId);\n",
              "  // Cache steps on the outputElement to make it available for the next call\n",
              "  // to uploadFilesContinue from Python.\n",
              "  outputElement.steps = steps;\n",
              "\n",
              "  return _uploadFilesContinue(outputId);\n",
              "}\n",
              "\n",
              "// This is roughly an async generator (not supported in the browser yet),\n",
              "// where there are multiple asynchronous steps and the Python side is going\n",
              "// to poll for completion of each step.\n",
              "// This uses a Promise to block the python side on completion of each step,\n",
              "// then passes the result of the previous step as the input to the next step.\n",
              "function _uploadFilesContinue(outputId) {\n",
              "  const outputElement = document.getElementById(outputId);\n",
              "  const steps = outputElement.steps;\n",
              "\n",
              "  const next = steps.next(outputElement.lastPromiseValue);\n",
              "  return Promise.resolve(next.value.promise).then((value) => {\n",
              "    // Cache the last promise value to make it available to the next\n",
              "    // step of the generator.\n",
              "    outputElement.lastPromiseValue = value;\n",
              "    return next.value.response;\n",
              "  });\n",
              "}\n",
              "\n",
              "/**\n",
              " * Generator function which is called between each async step of the upload\n",
              " * process.\n",
              " * @param {string} inputId Element ID of the input file picker element.\n",
              " * @param {string} outputId Element ID of the output display.\n",
              " * @return {!Iterable<!Object>} Iterable of next steps.\n",
              " */\n",
              "function* uploadFilesStep(inputId, outputId) {\n",
              "  const inputElement = document.getElementById(inputId);\n",
              "  inputElement.disabled = false;\n",
              "\n",
              "  const outputElement = document.getElementById(outputId);\n",
              "  outputElement.innerHTML = '';\n",
              "\n",
              "  const pickedPromise = new Promise((resolve) => {\n",
              "    inputElement.addEventListener('change', (e) => {\n",
              "      resolve(e.target.files);\n",
              "    });\n",
              "  });\n",
              "\n",
              "  const cancel = document.createElement('button');\n",
              "  inputElement.parentElement.appendChild(cancel);\n",
              "  cancel.textContent = 'Cancel upload';\n",
              "  const cancelPromise = new Promise((resolve) => {\n",
              "    cancel.onclick = () => {\n",
              "      resolve(null);\n",
              "    };\n",
              "  });\n",
              "\n",
              "  // Wait for the user to pick the files.\n",
              "  const files = yield {\n",
              "    promise: Promise.race([pickedPromise, cancelPromise]),\n",
              "    response: {\n",
              "      action: 'starting',\n",
              "    }\n",
              "  };\n",
              "\n",
              "  cancel.remove();\n",
              "\n",
              "  // Disable the input element since further picks are not allowed.\n",
              "  inputElement.disabled = true;\n",
              "\n",
              "  if (!files) {\n",
              "    return {\n",
              "      response: {\n",
              "        action: 'complete',\n",
              "      }\n",
              "    };\n",
              "  }\n",
              "\n",
              "  for (const file of files) {\n",
              "    const li = document.createElement('li');\n",
              "    li.append(span(file.name, {fontWeight: 'bold'}));\n",
              "    li.append(span(\n",
              "        `(${file.type || 'n/a'}) - ${file.size} bytes, ` +\n",
              "        `last modified: ${\n",
              "            file.lastModifiedDate ? file.lastModifiedDate.toLocaleDateString() :\n",
              "                                    'n/a'} - `));\n",
              "    const percent = span('0% done');\n",
              "    li.appendChild(percent);\n",
              "\n",
              "    outputElement.appendChild(li);\n",
              "\n",
              "    const fileDataPromise = new Promise((resolve) => {\n",
              "      const reader = new FileReader();\n",
              "      reader.onload = (e) => {\n",
              "        resolve(e.target.result);\n",
              "      };\n",
              "      reader.readAsArrayBuffer(file);\n",
              "    });\n",
              "    // Wait for the data to be ready.\n",
              "    let fileData = yield {\n",
              "      promise: fileDataPromise,\n",
              "      response: {\n",
              "        action: 'continue',\n",
              "      }\n",
              "    };\n",
              "\n",
              "    // Use a chunked sending to avoid message size limits. See b/62115660.\n",
              "    let position = 0;\n",
              "    do {\n",
              "      const length = Math.min(fileData.byteLength - position, MAX_PAYLOAD_SIZE);\n",
              "      const chunk = new Uint8Array(fileData, position, length);\n",
              "      position += length;\n",
              "\n",
              "      const base64 = btoa(String.fromCharCode.apply(null, chunk));\n",
              "      yield {\n",
              "        response: {\n",
              "          action: 'append',\n",
              "          file: file.name,\n",
              "          data: base64,\n",
              "        },\n",
              "      };\n",
              "\n",
              "      let percentDone = fileData.byteLength === 0 ?\n",
              "          100 :\n",
              "          Math.round((position / fileData.byteLength) * 100);\n",
              "      percent.textContent = `${percentDone}% done`;\n",
              "\n",
              "    } while (position < fileData.byteLength);\n",
              "  }\n",
              "\n",
              "  // All done.\n",
              "  yield {\n",
              "    response: {\n",
              "      action: 'complete',\n",
              "    }\n",
              "  };\n",
              "}\n",
              "\n",
              "scope.google = scope.google || {};\n",
              "scope.google.colab = scope.google.colab || {};\n",
              "scope.google.colab._files = {\n",
              "  _uploadFiles,\n",
              "  _uploadFilesContinue,\n",
              "};\n",
              "})(self);\n",
              "</script> "
            ]
          },
          "metadata": {}
        },
        {
          "output_type": "stream",
          "name": "stdout",
          "text": [
            "Saving 02_artificial_neurons_02_AND_dataset.csv to 02_artificial_neurons_02_AND_dataset.csv\n"
          ]
        }
      ]
    },
    {
      "cell_type": "code",
      "source": [
        "# Loading the dataset\n",
        "dataset = np.loadtxt(\n",
        "'02_artificial_neurons_02_AND_dataset.csv', delimiter=',')\n",
        "# We will split the array into two arrays by selecting subsets of\n",
        "# columns using the standard NumPy slice operator “:”.\n",
        "# The following line selects the first 2 columns, from index 0 to\n",
        "# index 2 via the slice 0:2.\n",
        "training_data = dataset[:, 0:2]\n",
        "# selects the output column (the 3rd variable) via index 2.\n",
        "target_data = dataset[:, 2]"
      ],
      "metadata": {
        "id": "S-jvKznSZYEc"
      },
      "execution_count": 12,
      "outputs": []
    },
    {
      "cell_type": "code",
      "source": [
        "#Visualizing training data\n",
        "print(training_data)\n",
        "print(training_data.shape)\n",
        "print(len(training_data))\n",
        "#Visualizing target data\n",
        "print(target_data)\n",
        "print(target_data.shape)\n",
        "print(len(target_data))"
      ],
      "metadata": {
        "colab": {
          "base_uri": "https://localhost:8080/"
        },
        "id": "TYdwS_OtZvXb",
        "outputId": "27dd1852-b4df-4d4c-aec0-6339144cb39f"
      },
      "execution_count": 20,
      "outputs": [
        {
          "output_type": "stream",
          "name": "stdout",
          "text": [
            "[[0. 0.]\n",
            " [0. 1.]\n",
            " [1. 0.]\n",
            " [1. 1.]]\n",
            "(4, 2)\n",
            "4\n",
            "[0. 0. 0. 1.]\n",
            "(4,)\n",
            "4\n"
          ]
        }
      ]
    },
    {
      "cell_type": "code",
      "source": [
        "# Defining the model\n",
        "model = Sequential()\n",
        "model.add(Dense(1, input_dim=2, activation='sigmoid'))"
      ],
      "metadata": {
        "id": "85uWk4zfTnc1"
      },
      "execution_count": 13,
      "outputs": []
    },
    {
      "cell_type": "code",
      "source": [
        "#Compile the model\n",
        "model.compile(optimizer=tf.keras.optimizers.SGD(learning_rate=0.25),loss='MSE',metrics=['accuracy'])"
      ],
      "metadata": {
        "id": "HmDr-umGT99c"
      },
      "execution_count": 14,
      "outputs": []
    },
    {
      "cell_type": "code",
      "source": [
        "# Training the model on the dataset\n",
        "model.fit(training_data, target_data, epochs=100, batch_size=1)"
      ],
      "metadata": {
        "colab": {
          "base_uri": "https://localhost:8080/"
        },
        "id": "Pm13dJVDUEh6",
        "outputId": "36015048-90e6-41e3-9191-1a74852a1b75"
      },
      "execution_count": 15,
      "outputs": [
        {
          "output_type": "stream",
          "name": "stdout",
          "text": [
            "Epoch 1/100\n",
            "4/4 [==============================] - 0s 4ms/step - loss: 0.2983 - accuracy: 0.7500\n",
            "Epoch 2/100\n",
            "4/4 [==============================] - 0s 3ms/step - loss: 0.2926 - accuracy: 0.7500\n",
            "Epoch 3/100\n",
            "4/4 [==============================] - 0s 4ms/step - loss: 0.2875 - accuracy: 0.7500\n",
            "Epoch 4/100\n",
            "4/4 [==============================] - 0s 4ms/step - loss: 0.2826 - accuracy: 0.7500\n",
            "Epoch 5/100\n",
            "4/4 [==============================] - 0s 3ms/step - loss: 0.2784 - accuracy: 0.7500\n",
            "Epoch 6/100\n",
            "4/4 [==============================] - 0s 4ms/step - loss: 0.2748 - accuracy: 0.7500\n",
            "Epoch 7/100\n",
            "4/4 [==============================] - 0s 4ms/step - loss: 0.2714 - accuracy: 0.7500\n",
            "Epoch 8/100\n",
            "4/4 [==============================] - 0s 3ms/step - loss: 0.2681 - accuracy: 0.7500\n",
            "Epoch 9/100\n",
            "4/4 [==============================] - 0s 4ms/step - loss: 0.2650 - accuracy: 0.7500\n",
            "Epoch 10/100\n",
            "4/4 [==============================] - 0s 4ms/step - loss: 0.2625 - accuracy: 0.7500\n",
            "Epoch 11/100\n",
            "4/4 [==============================] - 0s 3ms/step - loss: 0.2601 - accuracy: 0.7500\n",
            "Epoch 12/100\n",
            "4/4 [==============================] - 0s 4ms/step - loss: 0.2576 - accuracy: 0.7500\n",
            "Epoch 13/100\n",
            "4/4 [==============================] - 0s 4ms/step - loss: 0.2553 - accuracy: 0.7500\n",
            "Epoch 14/100\n",
            "4/4 [==============================] - 0s 4ms/step - loss: 0.2531 - accuracy: 0.7500\n",
            "Epoch 15/100\n",
            "4/4 [==============================] - 0s 5ms/step - loss: 0.2510 - accuracy: 0.7500\n",
            "Epoch 16/100\n",
            "4/4 [==============================] - 0s 4ms/step - loss: 0.2488 - accuracy: 0.7500\n",
            "Epoch 17/100\n",
            "4/4 [==============================] - 0s 4ms/step - loss: 0.2469 - accuracy: 0.7500\n",
            "Epoch 18/100\n",
            "4/4 [==============================] - 0s 4ms/step - loss: 0.2447 - accuracy: 0.7500\n",
            "Epoch 19/100\n",
            "4/4 [==============================] - 0s 4ms/step - loss: 0.2428 - accuracy: 0.7500\n",
            "Epoch 20/100\n",
            "4/4 [==============================] - 0s 4ms/step - loss: 0.2409 - accuracy: 0.7500\n",
            "Epoch 21/100\n",
            "4/4 [==============================] - 0s 4ms/step - loss: 0.2390 - accuracy: 0.7500\n",
            "Epoch 22/100\n",
            "4/4 [==============================] - 0s 4ms/step - loss: 0.2370 - accuracy: 0.7500\n",
            "Epoch 23/100\n",
            "4/4 [==============================] - 0s 3ms/step - loss: 0.2348 - accuracy: 0.7500\n",
            "Epoch 24/100\n",
            "4/4 [==============================] - 0s 4ms/step - loss: 0.2326 - accuracy: 0.7500\n",
            "Epoch 25/100\n",
            "4/4 [==============================] - 0s 4ms/step - loss: 0.2306 - accuracy: 0.7500\n",
            "Epoch 26/100\n",
            "4/4 [==============================] - 0s 3ms/step - loss: 0.2283 - accuracy: 0.7500\n",
            "Epoch 27/100\n",
            "4/4 [==============================] - 0s 3ms/step - loss: 0.2260 - accuracy: 0.7500\n",
            "Epoch 28/100\n",
            "4/4 [==============================] - 0s 5ms/step - loss: 0.2233 - accuracy: 0.7500\n",
            "Epoch 29/100\n",
            "4/4 [==============================] - 0s 3ms/step - loss: 0.2204 - accuracy: 0.7500\n",
            "Epoch 30/100\n",
            "4/4 [==============================] - 0s 4ms/step - loss: 0.2176 - accuracy: 0.7500\n",
            "Epoch 31/100\n",
            "4/4 [==============================] - 0s 4ms/step - loss: 0.2151 - accuracy: 0.7500\n",
            "Epoch 32/100\n",
            "4/4 [==============================] - 0s 4ms/step - loss: 0.2119 - accuracy: 0.7500\n",
            "Epoch 33/100\n",
            "4/4 [==============================] - 0s 4ms/step - loss: 0.2083 - accuracy: 0.7500\n",
            "Epoch 34/100\n",
            "4/4 [==============================] - 0s 4ms/step - loss: 0.2054 - accuracy: 0.7500\n",
            "Epoch 35/100\n",
            "4/4 [==============================] - 0s 4ms/step - loss: 0.2017 - accuracy: 0.7500\n",
            "Epoch 36/100\n",
            "4/4 [==============================] - 0s 4ms/step - loss: 0.1983 - accuracy: 0.7500\n",
            "Epoch 37/100\n",
            "4/4 [==============================] - 0s 4ms/step - loss: 0.1941 - accuracy: 0.7500\n",
            "Epoch 38/100\n",
            "4/4 [==============================] - 0s 4ms/step - loss: 0.1907 - accuracy: 0.7500\n",
            "Epoch 39/100\n",
            "4/4 [==============================] - 0s 4ms/step - loss: 0.1872 - accuracy: 0.7500\n",
            "Epoch 40/100\n",
            "4/4 [==============================] - 0s 4ms/step - loss: 0.1833 - accuracy: 0.7500\n",
            "Epoch 41/100\n",
            "4/4 [==============================] - 0s 4ms/step - loss: 0.1797 - accuracy: 0.7500\n",
            "Epoch 42/100\n",
            "4/4 [==============================] - 0s 3ms/step - loss: 0.1757 - accuracy: 0.7500\n",
            "Epoch 43/100\n",
            "4/4 [==============================] - 0s 4ms/step - loss: 0.1724 - accuracy: 0.7500\n",
            "Epoch 44/100\n",
            "4/4 [==============================] - 0s 3ms/step - loss: 0.1689 - accuracy: 0.7500\n",
            "Epoch 45/100\n",
            "4/4 [==============================] - 0s 4ms/step - loss: 0.1655 - accuracy: 0.7500\n",
            "Epoch 46/100\n",
            "4/4 [==============================] - 0s 4ms/step - loss: 0.1622 - accuracy: 0.7500\n",
            "Epoch 47/100\n",
            "4/4 [==============================] - 0s 4ms/step - loss: 0.1588 - accuracy: 0.7500\n",
            "Epoch 48/100\n",
            "4/4 [==============================] - 0s 5ms/step - loss: 0.1559 - accuracy: 0.7500\n",
            "Epoch 49/100\n",
            "4/4 [==============================] - 0s 5ms/step - loss: 0.1529 - accuracy: 0.7500\n",
            "Epoch 50/100\n",
            "4/4 [==============================] - 0s 5ms/step - loss: 0.1501 - accuracy: 0.7500\n",
            "Epoch 51/100\n",
            "4/4 [==============================] - 0s 4ms/step - loss: 0.1473 - accuracy: 0.7500\n",
            "Epoch 52/100\n",
            "4/4 [==============================] - 0s 4ms/step - loss: 0.1448 - accuracy: 0.7500\n",
            "Epoch 53/100\n",
            "4/4 [==============================] - 0s 4ms/step - loss: 0.1423 - accuracy: 0.7500\n",
            "Epoch 54/100\n",
            "4/4 [==============================] - 0s 4ms/step - loss: 0.1401 - accuracy: 0.7500\n",
            "Epoch 55/100\n",
            "4/4 [==============================] - 0s 5ms/step - loss: 0.1375 - accuracy: 0.7500\n",
            "Epoch 56/100\n",
            "4/4 [==============================] - 0s 4ms/step - loss: 0.1351 - accuracy: 1.0000\n",
            "Epoch 57/100\n",
            "4/4 [==============================] - 0s 4ms/step - loss: 0.1332 - accuracy: 0.7500\n",
            "Epoch 58/100\n",
            "4/4 [==============================] - 0s 4ms/step - loss: 0.1309 - accuracy: 1.0000\n",
            "Epoch 59/100\n",
            "4/4 [==============================] - 0s 4ms/step - loss: 0.1288 - accuracy: 1.0000\n",
            "Epoch 60/100\n",
            "4/4 [==============================] - 0s 4ms/step - loss: 0.1269 - accuracy: 0.7500\n",
            "Epoch 61/100\n",
            "4/4 [==============================] - 0s 4ms/step - loss: 0.1249 - accuracy: 0.7500\n",
            "Epoch 62/100\n",
            "4/4 [==============================] - 0s 4ms/step - loss: 0.1230 - accuracy: 0.7500\n",
            "Epoch 63/100\n",
            "4/4 [==============================] - 0s 4ms/step - loss: 0.1210 - accuracy: 1.0000\n",
            "Epoch 64/100\n",
            "4/4 [==============================] - 0s 4ms/step - loss: 0.1193 - accuracy: 1.0000\n",
            "Epoch 65/100\n",
            "4/4 [==============================] - 0s 3ms/step - loss: 0.1180 - accuracy: 1.0000\n",
            "Epoch 66/100\n",
            "4/4 [==============================] - 0s 4ms/step - loss: 0.1159 - accuracy: 1.0000\n",
            "Epoch 67/100\n",
            "4/4 [==============================] - 0s 4ms/step - loss: 0.1144 - accuracy: 1.0000\n",
            "Epoch 68/100\n",
            "4/4 [==============================] - 0s 4ms/step - loss: 0.1128 - accuracy: 1.0000\n",
            "Epoch 69/100\n",
            "4/4 [==============================] - 0s 4ms/step - loss: 0.1116 - accuracy: 1.0000\n",
            "Epoch 70/100\n",
            "4/4 [==============================] - 0s 4ms/step - loss: 0.1099 - accuracy: 1.0000\n",
            "Epoch 71/100\n",
            "4/4 [==============================] - 0s 5ms/step - loss: 0.1085 - accuracy: 1.0000\n",
            "Epoch 72/100\n",
            "4/4 [==============================] - 0s 4ms/step - loss: 0.1071 - accuracy: 1.0000\n",
            "Epoch 73/100\n",
            "4/4 [==============================] - 0s 4ms/step - loss: 0.1056 - accuracy: 1.0000\n",
            "Epoch 74/100\n",
            "4/4 [==============================] - 0s 4ms/step - loss: 0.1040 - accuracy: 1.0000\n",
            "Epoch 75/100\n",
            "4/4 [==============================] - 0s 5ms/step - loss: 0.1030 - accuracy: 1.0000\n",
            "Epoch 76/100\n",
            "4/4 [==============================] - 0s 4ms/step - loss: 0.1015 - accuracy: 1.0000\n",
            "Epoch 77/100\n",
            "4/4 [==============================] - 0s 4ms/step - loss: 0.1005 - accuracy: 1.0000\n",
            "Epoch 78/100\n",
            "4/4 [==============================] - 0s 4ms/step - loss: 0.0990 - accuracy: 1.0000\n",
            "Epoch 79/100\n",
            "4/4 [==============================] - 0s 4ms/step - loss: 0.0978 - accuracy: 1.0000\n",
            "Epoch 80/100\n",
            "4/4 [==============================] - 0s 4ms/step - loss: 0.0968 - accuracy: 1.0000\n",
            "Epoch 81/100\n",
            "4/4 [==============================] - 0s 4ms/step - loss: 0.0956 - accuracy: 1.0000\n",
            "Epoch 82/100\n",
            "4/4 [==============================] - 0s 4ms/step - loss: 0.0944 - accuracy: 1.0000\n",
            "Epoch 83/100\n",
            "4/4 [==============================] - 0s 4ms/step - loss: 0.0933 - accuracy: 1.0000\n",
            "Epoch 84/100\n",
            "4/4 [==============================] - 0s 4ms/step - loss: 0.0924 - accuracy: 1.0000\n",
            "Epoch 85/100\n",
            "4/4 [==============================] - 0s 4ms/step - loss: 0.0914 - accuracy: 1.0000\n",
            "Epoch 86/100\n",
            "4/4 [==============================] - 0s 5ms/step - loss: 0.0902 - accuracy: 1.0000\n",
            "Epoch 87/100\n",
            "4/4 [==============================] - 0s 4ms/step - loss: 0.0893 - accuracy: 1.0000\n",
            "Epoch 88/100\n",
            "4/4 [==============================] - 0s 4ms/step - loss: 0.0884 - accuracy: 1.0000\n",
            "Epoch 89/100\n",
            "4/4 [==============================] - 0s 4ms/step - loss: 0.0874 - accuracy: 1.0000\n",
            "Epoch 90/100\n",
            "4/4 [==============================] - 0s 4ms/step - loss: 0.0864 - accuracy: 1.0000\n",
            "Epoch 91/100\n",
            "4/4 [==============================] - 0s 4ms/step - loss: 0.0856 - accuracy: 1.0000\n",
            "Epoch 92/100\n",
            "4/4 [==============================] - 0s 4ms/step - loss: 0.0847 - accuracy: 1.0000\n",
            "Epoch 93/100\n",
            "4/4 [==============================] - 0s 4ms/step - loss: 0.0838 - accuracy: 1.0000\n",
            "Epoch 94/100\n",
            "4/4 [==============================] - 0s 4ms/step - loss: 0.0829 - accuracy: 1.0000\n",
            "Epoch 95/100\n",
            "4/4 [==============================] - 0s 4ms/step - loss: 0.0819 - accuracy: 1.0000\n",
            "Epoch 96/100\n",
            "4/4 [==============================] - 0s 4ms/step - loss: 0.0812 - accuracy: 1.0000\n",
            "Epoch 97/100\n",
            "4/4 [==============================] - 0s 4ms/step - loss: 0.0802 - accuracy: 1.0000\n",
            "Epoch 98/100\n",
            "4/4 [==============================] - 0s 5ms/step - loss: 0.0796 - accuracy: 1.0000\n",
            "Epoch 99/100\n",
            "4/4 [==============================] - 0s 4ms/step - loss: 0.0786 - accuracy: 1.0000\n",
            "Epoch 100/100\n",
            "4/4 [==============================] - 0s 4ms/step - loss: 0.0781 - accuracy: 1.0000\n"
          ]
        },
        {
          "output_type": "execute_result",
          "data": {
            "text/plain": [
              "<keras.src.callbacks.History at 0x7e15e2535e40>"
            ]
          },
          "metadata": {},
          "execution_count": 15
        }
      ]
    },
    {
      "cell_type": "code",
      "source": [
        "scores = model.evaluate(training_data, target_data)\n",
        "print(\"\\n%s: %.2f%%\" % (model.metrics_names[1], scores[1]*100))\n",
        "print (model.predict(training_data).round())"
      ],
      "metadata": {
        "colab": {
          "base_uri": "https://localhost:8080/"
        },
        "id": "TBVC6qnRUj8T",
        "outputId": "f4f24451-b65b-4957-fab1-94865cd81ff0"
      },
      "execution_count": 21,
      "outputs": [
        {
          "output_type": "stream",
          "name": "stdout",
          "text": [
            "1/1 [==============================] - 0s 27ms/step - loss: 0.0732 - accuracy: 1.0000\n",
            "\n",
            "accuracy: 100.00%\n",
            "1/1 [==============================] - 0s 20ms/step\n",
            "[[0.]\n",
            " [0.]\n",
            " [0.]\n",
            " [1.]]\n"
          ]
        }
      ]
    },
    {
      "cell_type": "code",
      "source": [
        "model.weights"
      ],
      "metadata": {
        "colab": {
          "base_uri": "https://localhost:8080/"
        },
        "id": "alUdhnxEVJPL",
        "outputId": "e3e18433-14af-4cd7-cf65-02c40d0d36da"
      },
      "execution_count": 22,
      "outputs": [
        {
          "output_type": "execute_result",
          "data": {
            "text/plain": [
              "[<tf.Variable 'dense_1/kernel:0' shape=(2, 1) dtype=float32, numpy=\n",
              " array([[1.5227345],\n",
              "        [1.5141405]], dtype=float32)>,\n",
              " <tf.Variable 'dense_1/bias:0' shape=(1,) dtype=float32, numpy=array([-2.4618127], dtype=float32)>]"
            ]
          },
          "metadata": {},
          "execution_count": 22
        }
      ]
    },
    {
      "cell_type": "code",
      "source": [
        "from google.colab import drive\n",
        "drive.mount('/content/drive')"
      ],
      "metadata": {
        "colab": {
          "base_uri": "https://localhost:8080/"
        },
        "id": "yj4SW0-uVZ3G",
        "outputId": "fc8f786a-eda3-4d25-97cd-8d36b06efa0b"
      },
      "execution_count": 23,
      "outputs": [
        {
          "output_type": "stream",
          "name": "stdout",
          "text": [
            "Drive already mounted at /content/drive; to attempt to forcibly remount, call drive.mount(\"/content/drive\", force_remount=True).\n"
          ]
        }
      ]
    },
    {
      "cell_type": "code",
      "source": [
        "model.save('/content/drive/MyDrive/models/02_artificial_neurons_01_AND_model.h5')\n"
      ],
      "metadata": {
        "id": "LtLQgqPHVzjT"
      },
      "execution_count": 24,
      "outputs": []
    },
    {
      "cell_type": "code",
      "source": [
        "from tensorflow import keras\n",
        "loaded_model = keras.models.load_model('/content/drive/MyDrive/models/02_artificial_neurons_01_AND_model.h5')\n",
        "print (loaded_model.predict(training_data).round())"
      ],
      "metadata": {
        "colab": {
          "base_uri": "https://localhost:8080/"
        },
        "id": "SZX0kO0xV5Ec",
        "outputId": "07cf3b29-163b-42dc-b7cf-0c7b369ede99"
      },
      "execution_count": 25,
      "outputs": [
        {
          "output_type": "stream",
          "name": "stdout",
          "text": [
            "1/1 [==============================] - 0s 54ms/step\n",
            "[[0.]\n",
            " [0.]\n",
            " [0.]\n",
            " [1.]]\n"
          ]
        }
      ]
    }
  ]
}