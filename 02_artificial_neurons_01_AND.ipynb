{
  "nbformat": 4,
  "nbformat_minor": 0,
  "metadata": {
    "colab": {
      "provenance": [],
      "include_colab_link": true
    },
    "kernelspec": {
      "name": "python3",
      "display_name": "Python 3"
    },
    "language_info": {
      "name": "python"
    }
  },
  "cells": [
    {
      "cell_type": "markdown",
      "metadata": {
        "id": "view-in-github",
        "colab_type": "text"
      },
      "source": [
        "<a href=\"https://colab.research.google.com/github/MigueXYLO/python/blob/main/02_artificial_neurons_01_AND.ipynb\" target=\"_parent\"><img src=\"https://colab.research.google.com/assets/colab-badge.svg\" alt=\"Open In Colab\"/></a>"
      ]
    },
    {
      "cell_type": "code",
      "execution_count": 18,
      "metadata": {
        "id": "nwc9liPjQU0z"
      },
      "outputs": [],
      "source": [
        "import tensorflow as tf\n",
        "import numpy as np\n",
        "from keras.models import Sequential\n",
        "from keras.layers import Dense"
      ]
    },
    {
      "cell_type": "code",
      "source": [
        "# Defining the dataset\n",
        "training_data = np.array([[0, 0], [0, 1], [1, 0], [1, 1]], \"float32\")\n",
        "target_data = np.array([[0], [0], [0], [1]], \"float32\")"
      ],
      "metadata": {
        "id": "Q6oEqw6CTha7"
      },
      "execution_count": 19,
      "outputs": []
    },
    {
      "cell_type": "code",
      "source": [
        "# Defining the model\n",
        "model = Sequential()\n",
        "model.add(Dense(1, input_dim=2, activation='sigmoid'))"
      ],
      "metadata": {
        "id": "85uWk4zfTnc1"
      },
      "execution_count": 20,
      "outputs": []
    },
    {
      "cell_type": "code",
      "source": [
        "#Compile the model\n",
        "model.compile(optimizer=tf.keras.optimizers.SGD(learning_rate=0.25),loss='MSE',metrics=['accuracy'])"
      ],
      "metadata": {
        "id": "HmDr-umGT99c"
      },
      "execution_count": 21,
      "outputs": []
    },
    {
      "cell_type": "code",
      "source": [
        "# Training the model on the dataset\n",
        "model.fit(training_data, target_data, epochs=100, batch_size=1)"
      ],
      "metadata": {
        "colab": {
          "base_uri": "https://localhost:8080/"
        },
        "id": "Pm13dJVDUEh6",
        "outputId": "660148b7-41b4-4615-cee3-2f81ec84d956"
      },
      "execution_count": 22,
      "outputs": [
        {
          "output_type": "stream",
          "name": "stdout",
          "text": [
            "Epoch 1/100\n",
            "4/4 [==============================] - 0s 6ms/step - loss: 0.2761 - accuracy: 0.7500\n",
            "Epoch 2/100\n",
            "4/4 [==============================] - 0s 5ms/step - loss: 0.2682 - accuracy: 0.7500\n",
            "Epoch 3/100\n",
            "4/4 [==============================] - 0s 4ms/step - loss: 0.2613 - accuracy: 0.7500\n",
            "Epoch 4/100\n",
            "4/4 [==============================] - 0s 4ms/step - loss: 0.2538 - accuracy: 0.7500\n",
            "Epoch 5/100\n",
            "4/4 [==============================] - 0s 4ms/step - loss: 0.2483 - accuracy: 0.7500\n",
            "Epoch 6/100\n",
            "4/4 [==============================] - 0s 4ms/step - loss: 0.2431 - accuracy: 0.7500\n",
            "Epoch 7/100\n",
            "4/4 [==============================] - 0s 4ms/step - loss: 0.2375 - accuracy: 0.7500\n",
            "Epoch 8/100\n",
            "4/4 [==============================] - 0s 4ms/step - loss: 0.2328 - accuracy: 0.7500\n",
            "Epoch 9/100\n",
            "4/4 [==============================] - 0s 4ms/step - loss: 0.2280 - accuracy: 0.7500\n",
            "Epoch 10/100\n",
            "4/4 [==============================] - 0s 4ms/step - loss: 0.2234 - accuracy: 0.7500\n",
            "Epoch 11/100\n",
            "4/4 [==============================] - 0s 4ms/step - loss: 0.2187 - accuracy: 0.7500\n",
            "Epoch 12/100\n",
            "4/4 [==============================] - 0s 4ms/step - loss: 0.2150 - accuracy: 0.7500\n",
            "Epoch 13/100\n",
            "4/4 [==============================] - 0s 5ms/step - loss: 0.2107 - accuracy: 0.7500\n",
            "Epoch 14/100\n",
            "4/4 [==============================] - 0s 4ms/step - loss: 0.2069 - accuracy: 0.7500\n",
            "Epoch 15/100\n",
            "4/4 [==============================] - 0s 4ms/step - loss: 0.2025 - accuracy: 0.7500\n",
            "Epoch 16/100\n",
            "4/4 [==============================] - 0s 4ms/step - loss: 0.1992 - accuracy: 0.7500\n",
            "Epoch 17/100\n",
            "4/4 [==============================] - 0s 5ms/step - loss: 0.1954 - accuracy: 0.7500\n",
            "Epoch 18/100\n",
            "4/4 [==============================] - 0s 5ms/step - loss: 0.1911 - accuracy: 0.7500\n",
            "Epoch 19/100\n",
            "4/4 [==============================] - 0s 6ms/step - loss: 0.1878 - accuracy: 0.7500\n",
            "Epoch 20/100\n",
            "4/4 [==============================] - 0s 4ms/step - loss: 0.1838 - accuracy: 0.7500\n",
            "Epoch 21/100\n",
            "4/4 [==============================] - 0s 5ms/step - loss: 0.1807 - accuracy: 0.7500\n",
            "Epoch 22/100\n",
            "4/4 [==============================] - 0s 5ms/step - loss: 0.1771 - accuracy: 0.7500\n",
            "Epoch 23/100\n",
            "4/4 [==============================] - 0s 4ms/step - loss: 0.1732 - accuracy: 0.7500\n",
            "Epoch 24/100\n",
            "4/4 [==============================] - 0s 4ms/step - loss: 0.1699 - accuracy: 0.7500\n",
            "Epoch 25/100\n",
            "4/4 [==============================] - 0s 4ms/step - loss: 0.1669 - accuracy: 0.7500\n",
            "Epoch 26/100\n",
            "4/4 [==============================] - 0s 5ms/step - loss: 0.1638 - accuracy: 0.7500\n",
            "Epoch 27/100\n",
            "4/4 [==============================] - 0s 4ms/step - loss: 0.1605 - accuracy: 0.7500\n",
            "Epoch 28/100\n",
            "4/4 [==============================] - 0s 4ms/step - loss: 0.1578 - accuracy: 0.7500\n",
            "Epoch 29/100\n",
            "4/4 [==============================] - 0s 4ms/step - loss: 0.1546 - accuracy: 0.7500\n",
            "Epoch 30/100\n",
            "4/4 [==============================] - 0s 6ms/step - loss: 0.1518 - accuracy: 0.7500\n",
            "Epoch 31/100\n",
            "4/4 [==============================] - 0s 5ms/step - loss: 0.1493 - accuracy: 0.7500\n",
            "Epoch 32/100\n",
            "4/4 [==============================] - 0s 5ms/step - loss: 0.1467 - accuracy: 0.7500\n",
            "Epoch 33/100\n",
            "4/4 [==============================] - 0s 4ms/step - loss: 0.1439 - accuracy: 0.7500\n",
            "Epoch 34/100\n",
            "4/4 [==============================] - 0s 4ms/step - loss: 0.1417 - accuracy: 0.7500\n",
            "Epoch 35/100\n",
            "4/4 [==============================] - 0s 4ms/step - loss: 0.1392 - accuracy: 0.7500\n",
            "Epoch 36/100\n",
            "4/4 [==============================] - 0s 4ms/step - loss: 0.1367 - accuracy: 0.7500\n",
            "Epoch 37/100\n",
            "4/4 [==============================] - 0s 3ms/step - loss: 0.1345 - accuracy: 0.7500\n",
            "Epoch 38/100\n",
            "4/4 [==============================] - 0s 4ms/step - loss: 0.1324 - accuracy: 0.7500\n",
            "Epoch 39/100\n",
            "4/4 [==============================] - 0s 5ms/step - loss: 0.1302 - accuracy: 1.0000\n",
            "Epoch 40/100\n",
            "4/4 [==============================] - 0s 3ms/step - loss: 0.1282 - accuracy: 1.0000\n",
            "Epoch 41/100\n",
            "4/4 [==============================] - 0s 5ms/step - loss: 0.1263 - accuracy: 0.7500\n",
            "Epoch 42/100\n",
            "4/4 [==============================] - 0s 4ms/step - loss: 0.1245 - accuracy: 1.0000\n",
            "Epoch 43/100\n",
            "4/4 [==============================] - 0s 5ms/step - loss: 0.1226 - accuracy: 1.0000\n",
            "Epoch 44/100\n",
            "4/4 [==============================] - 0s 3ms/step - loss: 0.1209 - accuracy: 1.0000\n",
            "Epoch 45/100\n",
            "4/4 [==============================] - 0s 3ms/step - loss: 0.1191 - accuracy: 1.0000\n",
            "Epoch 46/100\n",
            "4/4 [==============================] - 0s 3ms/step - loss: 0.1174 - accuracy: 1.0000\n",
            "Epoch 47/100\n",
            "4/4 [==============================] - 0s 4ms/step - loss: 0.1157 - accuracy: 1.0000\n",
            "Epoch 48/100\n",
            "4/4 [==============================] - 0s 4ms/step - loss: 0.1141 - accuracy: 1.0000\n",
            "Epoch 49/100\n",
            "4/4 [==============================] - 0s 5ms/step - loss: 0.1125 - accuracy: 1.0000\n",
            "Epoch 50/100\n",
            "4/4 [==============================] - 0s 5ms/step - loss: 0.1108 - accuracy: 1.0000\n",
            "Epoch 51/100\n",
            "4/4 [==============================] - 0s 6ms/step - loss: 0.1092 - accuracy: 1.0000\n",
            "Epoch 52/100\n",
            "4/4 [==============================] - 0s 5ms/step - loss: 0.1078 - accuracy: 1.0000\n",
            "Epoch 53/100\n",
            "4/4 [==============================] - 0s 5ms/step - loss: 0.1067 - accuracy: 1.0000\n",
            "Epoch 54/100\n",
            "4/4 [==============================] - 0s 5ms/step - loss: 0.1052 - accuracy: 1.0000\n",
            "Epoch 55/100\n",
            "4/4 [==============================] - 0s 5ms/step - loss: 0.1039 - accuracy: 1.0000\n",
            "Epoch 56/100\n",
            "4/4 [==============================] - 0s 6ms/step - loss: 0.1025 - accuracy: 1.0000\n",
            "Epoch 57/100\n",
            "4/4 [==============================] - 0s 6ms/step - loss: 0.1013 - accuracy: 1.0000\n",
            "Epoch 58/100\n",
            "4/4 [==============================] - 0s 5ms/step - loss: 0.0998 - accuracy: 1.0000\n",
            "Epoch 59/100\n",
            "4/4 [==============================] - 0s 5ms/step - loss: 0.0988 - accuracy: 1.0000\n",
            "Epoch 60/100\n",
            "4/4 [==============================] - 0s 4ms/step - loss: 0.0977 - accuracy: 1.0000\n",
            "Epoch 61/100\n",
            "4/4 [==============================] - 0s 4ms/step - loss: 0.0965 - accuracy: 1.0000\n",
            "Epoch 62/100\n",
            "4/4 [==============================] - 0s 5ms/step - loss: 0.0951 - accuracy: 1.0000\n",
            "Epoch 63/100\n",
            "4/4 [==============================] - 0s 4ms/step - loss: 0.0943 - accuracy: 1.0000\n",
            "Epoch 64/100\n",
            "4/4 [==============================] - 0s 4ms/step - loss: 0.0930 - accuracy: 1.0000\n",
            "Epoch 65/100\n",
            "4/4 [==============================] - 0s 4ms/step - loss: 0.0922 - accuracy: 1.0000\n",
            "Epoch 66/100\n",
            "4/4 [==============================] - 0s 4ms/step - loss: 0.0909 - accuracy: 1.0000\n",
            "Epoch 67/100\n",
            "4/4 [==============================] - 0s 3ms/step - loss: 0.0901 - accuracy: 1.0000\n",
            "Epoch 68/100\n",
            "4/4 [==============================] - 0s 4ms/step - loss: 0.0891 - accuracy: 1.0000\n",
            "Epoch 69/100\n",
            "4/4 [==============================] - 0s 3ms/step - loss: 0.0881 - accuracy: 1.0000\n",
            "Epoch 70/100\n",
            "4/4 [==============================] - 0s 4ms/step - loss: 0.0872 - accuracy: 1.0000\n",
            "Epoch 71/100\n",
            "4/4 [==============================] - 0s 4ms/step - loss: 0.0860 - accuracy: 1.0000\n",
            "Epoch 72/100\n",
            "4/4 [==============================] - 0s 4ms/step - loss: 0.0853 - accuracy: 1.0000\n",
            "Epoch 73/100\n",
            "4/4 [==============================] - 0s 5ms/step - loss: 0.0844 - accuracy: 1.0000\n",
            "Epoch 74/100\n",
            "4/4 [==============================] - 0s 4ms/step - loss: 0.0835 - accuracy: 1.0000\n",
            "Epoch 75/100\n",
            "4/4 [==============================] - 0s 4ms/step - loss: 0.0825 - accuracy: 1.0000\n",
            "Epoch 76/100\n",
            "4/4 [==============================] - 0s 6ms/step - loss: 0.0818 - accuracy: 1.0000\n",
            "Epoch 77/100\n",
            "4/4 [==============================] - 0s 5ms/step - loss: 0.0810 - accuracy: 1.0000\n",
            "Epoch 78/100\n",
            "4/4 [==============================] - 0s 3ms/step - loss: 0.0801 - accuracy: 1.0000\n",
            "Epoch 79/100\n",
            "4/4 [==============================] - 0s 3ms/step - loss: 0.0792 - accuracy: 1.0000\n",
            "Epoch 80/100\n",
            "4/4 [==============================] - 0s 4ms/step - loss: 0.0786 - accuracy: 1.0000\n",
            "Epoch 81/100\n",
            "4/4 [==============================] - 0s 6ms/step - loss: 0.0778 - accuracy: 1.0000\n",
            "Epoch 82/100\n",
            "4/4 [==============================] - 0s 5ms/step - loss: 0.0769 - accuracy: 1.0000\n",
            "Epoch 83/100\n",
            "4/4 [==============================] - 0s 4ms/step - loss: 0.0763 - accuracy: 1.0000\n",
            "Epoch 84/100\n",
            "4/4 [==============================] - 0s 4ms/step - loss: 0.0754 - accuracy: 1.0000\n",
            "Epoch 85/100\n",
            "4/4 [==============================] - 0s 4ms/step - loss: 0.0749 - accuracy: 1.0000\n",
            "Epoch 86/100\n",
            "4/4 [==============================] - 0s 5ms/step - loss: 0.0740 - accuracy: 1.0000\n",
            "Epoch 87/100\n",
            "4/4 [==============================] - 0s 5ms/step - loss: 0.0735 - accuracy: 1.0000\n",
            "Epoch 88/100\n",
            "4/4 [==============================] - 0s 6ms/step - loss: 0.0728 - accuracy: 1.0000\n",
            "Epoch 89/100\n",
            "4/4 [==============================] - 0s 4ms/step - loss: 0.0721 - accuracy: 1.0000\n",
            "Epoch 90/100\n",
            "4/4 [==============================] - 0s 5ms/step - loss: 0.0714 - accuracy: 1.0000\n",
            "Epoch 91/100\n",
            "4/4 [==============================] - 0s 4ms/step - loss: 0.0708 - accuracy: 1.0000\n",
            "Epoch 92/100\n",
            "4/4 [==============================] - 0s 3ms/step - loss: 0.0702 - accuracy: 1.0000\n",
            "Epoch 93/100\n",
            "4/4 [==============================] - 0s 3ms/step - loss: 0.0695 - accuracy: 1.0000\n",
            "Epoch 94/100\n",
            "4/4 [==============================] - 0s 3ms/step - loss: 0.0689 - accuracy: 1.0000\n",
            "Epoch 95/100\n",
            "4/4 [==============================] - 0s 3ms/step - loss: 0.0684 - accuracy: 1.0000\n",
            "Epoch 96/100\n",
            "4/4 [==============================] - 0s 3ms/step - loss: 0.0677 - accuracy: 1.0000\n",
            "Epoch 97/100\n",
            "4/4 [==============================] - 0s 3ms/step - loss: 0.0672 - accuracy: 1.0000\n",
            "Epoch 98/100\n",
            "4/4 [==============================] - 0s 3ms/step - loss: 0.0666 - accuracy: 1.0000\n",
            "Epoch 99/100\n",
            "4/4 [==============================] - 0s 3ms/step - loss: 0.0660 - accuracy: 1.0000\n",
            "Epoch 100/100\n",
            "4/4 [==============================] - 0s 4ms/step - loss: 0.0654 - accuracy: 1.0000\n"
          ]
        },
        {
          "output_type": "execute_result",
          "data": {
            "text/plain": [
              "<keras.src.callbacks.History at 0x79ab94f40fd0>"
            ]
          },
          "metadata": {},
          "execution_count": 22
        }
      ]
    },
    {
      "cell_type": "code",
      "source": [
        "scores = model.evaluate(training_data, target_data)\n",
        "print(\"\\n%s: %.2f%%\" % (model.metrics_names[1], scores[1]*100))\n",
        "print (model.predict(training_data).round())"
      ],
      "metadata": {
        "colab": {
          "base_uri": "https://localhost:8080/"
        },
        "id": "TBVC6qnRUj8T",
        "outputId": "69d94fe1-338e-4ef0-c1ed-6d713839379a"
      },
      "execution_count": 23,
      "outputs": [
        {
          "output_type": "stream",
          "name": "stdout",
          "text": [
            "1/1 [==============================] - 0s 103ms/step - loss: 0.0619 - accuracy: 1.0000\n",
            "\n",
            "accuracy: 100.00%\n",
            "1/1 [==============================] - 0s 40ms/step\n",
            "[[0.]\n",
            " [0.]\n",
            " [0.]\n",
            " [1.]]\n"
          ]
        }
      ]
    },
    {
      "cell_type": "code",
      "source": [
        "model.weights"
      ],
      "metadata": {
        "colab": {
          "base_uri": "https://localhost:8080/"
        },
        "id": "alUdhnxEVJPL",
        "outputId": "d1d165ac-7f1d-4cf7-947a-617d44482dcb"
      },
      "execution_count": 24,
      "outputs": [
        {
          "output_type": "execute_result",
          "data": {
            "text/plain": [
              "[<tf.Variable 'dense_2/kernel:0' shape=(2, 1) dtype=float32, numpy=\n",
              " array([[1.7698705],\n",
              "        [1.7783811]], dtype=float32)>,\n",
              " <tf.Variable 'dense_2/bias:0' shape=(1,) dtype=float32, numpy=array([-2.7777576], dtype=float32)>]"
            ]
          },
          "metadata": {},
          "execution_count": 24
        }
      ]
    },
    {
      "cell_type": "code",
      "source": [
        "from google.colab import drive\n",
        "drive.mount('/content/drive')"
      ],
      "metadata": {
        "colab": {
          "base_uri": "https://localhost:8080/"
        },
        "id": "yj4SW0-uVZ3G",
        "outputId": "9789b724-e992-4f54-d7a5-15a7e5d76378"
      },
      "execution_count": 25,
      "outputs": [
        {
          "output_type": "stream",
          "name": "stdout",
          "text": [
            "Drive already mounted at /content/drive; to attempt to forcibly remount, call drive.mount(\"/content/drive\", force_remount=True).\n"
          ]
        }
      ]
    },
    {
      "cell_type": "code",
      "source": [
        "model.save('/content/drive/MyDrive/models/02_artificial_neurons_01_AND_model.h5')\n"
      ],
      "metadata": {
        "id": "LtLQgqPHVzjT"
      },
      "execution_count": 26,
      "outputs": []
    },
    {
      "cell_type": "code",
      "source": [
        "from tensorflow import keras\n",
        "loaded_model = keras.models.load_model('/content/drive/MyDrive/models/02_artificial_neurons_01_AND_model.h5')\n",
        "print (loaded_model.predict(training_data).round())"
      ],
      "metadata": {
        "colab": {
          "base_uri": "https://localhost:8080/"
        },
        "id": "SZX0kO0xV5Ec",
        "outputId": "809270b2-96a2-4c4c-869e-89a9eb05c040"
      },
      "execution_count": 27,
      "outputs": [
        {
          "output_type": "stream",
          "name": "stdout",
          "text": [
            "1/1 [==============================] - 0s 41ms/step\n",
            "[[0.]\n",
            " [0.]\n",
            " [0.]\n",
            " [1.]]\n"
          ]
        }
      ]
    }
  ]
}